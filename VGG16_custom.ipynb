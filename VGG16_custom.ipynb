{
  "nbformat": 4,
  "nbformat_minor": 0,
  "metadata": {
    "colab": {
      "name": "VGG16_custom.ipynb",
      "provenance": [],
      "collapsed_sections": [],
      "authorship_tag": "ABX9TyNV8YdBf7PCzAvRPfVcrS73",
      "include_colab_link": true
    },
    "kernelspec": {
      "display_name": "Python 3",
      "name": "python3"
    },
    "language_info": {
      "name": "python"
    }
  },
  "cells": [
    {
      "cell_type": "markdown",
      "metadata": {
        "id": "view-in-github",
        "colab_type": "text"
      },
      "source": [
        "<a href=\"https://colab.research.google.com/github/SeongHyeon-Kang/Shoes-classification/blob/main/VGG16_custom.ipynb\" target=\"_parent\"><img src=\"https://colab.research.google.com/assets/colab-badge.svg\" alt=\"Open In Colab\"/></a>"
      ]
    },
    {
      "cell_type": "code",
      "metadata": {
        "colab": {
          "base_uri": "https://localhost:8080/"
        },
        "id": "vQbu65shMpVO",
        "outputId": "647a167a-5d56-40f3-dcff-2d86be1ee156"
      },
      "source": [
        "#구글 드라이브 연결\n",
        "from google.colab import drive\n",
        "drive.mount('/content/gdrive')"
      ],
      "execution_count": 1,
      "outputs": [
        {
          "output_type": "stream",
          "text": [
            "Mounted at /content/gdrive\n"
          ],
          "name": "stdout"
        }
      ]
    },
    {
      "cell_type": "code",
      "metadata": {
        "id": "sE3ElSEJMlVE"
      },
      "source": [
        "from keras import layers, models\n",
        "from keras.applications import VGG16\n",
        "from keras import Input\n",
        "from keras.models import Model\n",
        "from keras.preprocessing.image import ImageDataGenerator\n",
        "from keras import optimizers, initializers, regularizers, metrics\n",
        "from keras.callbacks import ModelCheckpoint\n",
        "import os\n",
        "from glob import glob\n",
        "from PIL import Image\n",
        "import matplotlib.pyplot as plt\n",
        "import numpy as np\n",
        "\n",
        " \n",
        "train_datagen = ImageDataGenerator(rescale=1./255)\n",
        "val_datagen = ImageDataGenerator(rescale=1./255)\n",
        "test_datagen = ImageDataGenerator(rescale=1./255)\n",
        " \n",
        "train_dir = os.path.join('/content/gdrive/MyDrive/cnn_custom/training')\n",
        "val_dir = os.path.join('/content/gdrive/MyDrive/cnn_custom/validation')\n",
        "test_dir = os.path.join('/content/gdrive/MyDrive/cnn_custom/testing')\n",
        " \n",
        " \n",
        "train_generator = train_datagen.flow_from_directory(train_dir, batch_size=16, target_size=(220, 200), color_mode='rgb')\n",
        "val_generator = val_datagen.flow_from_directory(val_dir, batch_size=16, target_size=(220, 200), color_mode='rgb')\n",
        "test_generator = test_datagen.flow_from_directory(test_dir, batch_size=16, target_size=(220, 200), color_mode='rgb')\n",
        " \n",
        " \n",
        "input_tensor = Input(shape=(220, 200, 3), dtype='float32', name='input')\n",
        " \n",
        "x = layers.Conv2D(64, (3, 3), activation='relu', padding='same', kernel_initializer='he_normal', kernel_regularizer=regularizers.l2(0.01))(input_tensor)\n",
        "x = layers.Conv2D(64, (3, 3), activation='relu', padding='same', kernel_initializer='he_normal', kernel_regularizer=regularizers.l2(0.01))(x)\n",
        "x = layers.MaxPooling2D((2,2))(x)\n",
        " \n",
        "x = layers.Conv2D(128, (3, 3), activation='relu', padding='same', kernel_initializer='he_normal', kernel_regularizer=regularizers.l2(0.01))(x)\n",
        "x = layers.Conv2D(128, (3, 3), activation='relu', padding='same', kernel_initializer='he_normal', kernel_regularizer=regularizers.l2(0.01))(x)\n",
        "x = layers.MaxPooling2D((2,2))(x)\n",
        " \n",
        "x = layers.Conv2D(256, (3, 3), activation='relu', padding='same', kernel_initializer='he_normal', kernel_regularizer=regularizers.l2(0.01))(x)\n",
        "x = layers.Conv2D(256, (3, 3), activation='relu', padding='same', kernel_initializer='he_normal', kernel_regularizer=regularizers.l2(0.01))(x)\n",
        "x = layers.Conv2D(256, (3, 3), activation='relu', padding='same', kernel_initializer='he_normal', kernel_regularizer=regularizers.l2(0.01))(x)\n",
        "x = layers.MaxPooling2D((2,2))(x)\n",
        " \n",
        "x = layers.Conv2D(512, (3, 3), activation='relu', padding='same', kernel_initializer='he_normal', kernel_regularizer=regularizers.l2(0.01))(x)\n",
        "x = layers.Conv2D(512, (3, 3), activation='relu', padding='same', kernel_initializer='he_normal', kernel_regularizer=regularizers.l2(0.01))(x)\n",
        "x = layers.Conv2D(512, (3, 3), activation='relu', padding='same', kernel_initializer='he_normal', kernel_regularizer=regularizers.l2(0.01))(x)\n",
        "x = layers.MaxPooling2D((2,2))(x)\n",
        " \n",
        "x = layers.Conv2D(512, (3, 3), activation='relu', padding='same', kernel_initializer='he_normal', kernel_regularizer=regularizers.l2(0.01))(x)\n",
        "x = layers.Conv2D(512, (3, 3), activation='relu', padding='same', kernel_initializer='he_normal', kernel_regularizer=regularizers.l2(0.01))(x)\n",
        "x = layers.Conv2D(512, (3, 3), activation='relu', padding='same', kernel_initializer='he_normal', kernel_regularizer=regularizers.l2(0.01))(x)\n",
        "x = layers.MaxPooling2D((2,2))(x)\n",
        " \n",
        "x = layers.Flatten()(x)\n",
        "x = layers.Dense(4096, kernel_initializer='he_normal')(x)\n",
        "x = layers.Dense(2048, kernel_initializer='he_normal')(x)\n",
        "x = layers.Dense(1024, kernel_initializer='he_normal')(x)\n",
        "output_tensor = layers.Dense(3, activation='softmax')(x)\n",
        " \n",
        "myvgg = Model(input_tensor, output_tensor)\n",
        "myvgg.summary()\n",
        " \n",
        " \n",
        "checkpoint = ModelCheckpoint(filepath='My_VGG_weight.hdf5', \n",
        "            monitor='loss', \n",
        "            mode='min', \n",
        "            save_best_only=True)\n",
        " \n",
        "myvgg.compile(loss='categorical_crossentropy', optimizer=optimizers.RMSprop(lr=2e-5), metrics=['acc'])\n",
        " \n",
        " \n",
        "history = myvgg.fit_generator(train_generator, \n",
        "            steps_per_epoch=10, \n",
        "            epochs=100, \n",
        "            validation_data=val_generator, \n",
        "            validation_steps=16, \n",
        "            callbacks=[checkpoint])"
      ],
      "execution_count": null,
      "outputs": []
    },
    {
      "cell_type": "code",
      "metadata": {
        "id": "yfPrLuspO1w-"
      },
      "source": [
        "acc = history.history['acc']\n",
        "val_acc = history.history['val_acc']\n",
        "loss = history.history['loss']\n",
        "val_loss = history.history['val_loss']\n",
        " \n",
        "epochs = range(1, len(acc) + 1)\n",
        " \n",
        "plt.plot(epochs, acc, 'b', label='Training acc')\n",
        "plt.title('Accuracy')\n",
        "plt.legend()\n",
        "plt.figure()\n",
        " \n",
        "plt.plot(epochs, loss, 'r', label='Training loss')\n",
        "plt.title('Loss')\n",
        "plt.legend()\n",
        " \n",
        "plt.show()"
      ],
      "execution_count": null,
      "outputs": []
    },
    {
      "cell_type": "code",
      "metadata": {
        "id": "26AoO72TU6dW"
      },
      "source": [
        "from keras.models import load_model\n",
        "\n",
        "myvgg.save('shose_classification.h5')"
      ],
      "execution_count": null,
      "outputs": []
    },
    {
      "cell_type": "code",
      "metadata": {
        "id": "5kV8ttZdZGfI"
      },
      "source": [
        "print(\"-- Evaluate --\")\n",
        "scores = myvgg.evaluate_generator(test_generator, steps=10)\n",
        "print(\"%s: %.2f%%\" %(myvgg.metrics_names[1], scores[1]*100))"
      ],
      "execution_count": null,
      "outputs": []
    },
    {
      "cell_type": "code",
      "metadata": {
        "id": "kReTiNPfYWDJ"
      },
      "source": [
        "image = cv2.imread(\"/content/gdrive/MyDrive/cnn_custom/testing/beef/beef (301).jpg\")\n",
        "test_img = img_to_array(load_img('/content/gdrive/MyDrive/cnn_custom/testing/beef/beef (301).jpg', target_size=(220, 200)))\n",
        " \n",
        "test_input = preprocess_input(np.expand_dims(test_img.copy(), axis=0))\n",
        " \n",
        "pred = myvgg.predict(test_input)\n",
        "print(np.argmax(pred))\n",
        "\n",
        "new_image = cv2.cvtColor(image, cv2.COLOR_BGR2RGB)\n",
        "plt.imshow(new_image)  "
      ],
      "execution_count": null,
      "outputs": []
    }
  ]
}