{
  "nbformat": 4,
  "nbformat_minor": 0,
  "metadata": {
    "colab": {
      "name": "Image_Geterator.ipynb",
      "provenance": [],
      "authorship_tag": "ABX9TyOJcS+bZWvmG/HbqzvCMESX",
      "include_colab_link": true
    },
    "kernelspec": {
      "name": "python3",
      "display_name": "Python 3"
    },
    "language_info": {
      "name": "python"
    }
  },
  "cells": [
    {
      "cell_type": "markdown",
      "metadata": {
        "id": "view-in-github",
        "colab_type": "text"
      },
      "source": [
        "<a href=\"https://colab.research.google.com/github/SeongHyeon-Kang/Shoes-classification/blob/main/Image_Geterator.ipynb\" target=\"_parent\"><img src=\"https://colab.research.google.com/assets/colab-badge.svg\" alt=\"Open In Colab\"/></a>"
      ]
    },
    {
      "cell_type": "code",
      "metadata": {
        "colab": {
          "base_uri": "https://localhost:8080/"
        },
        "id": "dz7Sjs3DIFPn",
        "outputId": "faaf8961-97e3-4edb-a0c1-150709f35b6e"
      },
      "source": [
        "#구글 드라이브 연결\n",
        "from google.colab import drive\n",
        "drive.mount('/content/gdrive')"
      ],
      "execution_count": 1,
      "outputs": [
        {
          "output_type": "stream",
          "text": [
            "Mounted at /content/gdrive\n"
          ],
          "name": "stdout"
        }
      ]
    },
    {
      "cell_type": "code",
      "metadata": {
        "id": "HmDJGL0iIOLM"
      },
      "source": [
        "import numpy as np\n",
        "\n",
        "# 랜덤시드 고정시키기\n",
        "np.random.seed(5)\n",
        "\n",
        "from keras.preprocessing.image import ImageDataGenerator, array_to_img, img_to_array, load_img\n",
        "\n",
        "# 데이터셋 불러오기\n",
        "data_aug_gen = ImageDataGenerator(rescale=1./255, \n",
        "                                  rotation_range=15,\n",
        "                                  width_shift_range=0.1,\n",
        "                                  height_shift_range=0.1,\n",
        "                                  shear_range=0.5,\n",
        "                                  zoom_range=[0.8, 2.0],\n",
        "                                  horizontal_flip=True,\n",
        "                                  vertical_flip=True,\n",
        "                                  fill_mode='nearest')\n",
        "                                   \n",
        "img = load_img('/content/gdrive/MyDrive/shoes_picture/shoes5/shoes5 (8).jpg')\n",
        "x = img_to_array(img)\n",
        "x = x.reshape((1,) + x.shape)\n",
        "\n",
        "i = 0\n",
        "\n",
        "# 이 for는 무한으로 반복되기 때문에 우리가 원하는 반복횟수를 지정하여, 지정된 반복횟수가 되면 빠져나오도록 해야합니다.\n",
        "for batch in data_aug_gen.flow(x, batch_size=1, save_to_dir='/content/gdrive/MyDrive/shoes_picture/shoes5', save_prefix='8', save_format='jpg'):\n",
        "    i += 1\n",
        "    if i > 30: \n",
        "        break"
      ],
      "execution_count": 3,
      "outputs": []
    }
  ]
}